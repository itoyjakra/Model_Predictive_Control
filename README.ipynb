{
 "cells": [
  {
   "cell_type": "markdown",
   "metadata": {},
   "source": [
    "# Model Predictive Control"
   ]
  },
  {
   "cell_type": "markdown",
   "metadata": {},
   "source": [
    "## The Vehicle Model"
   ]
  },
  {
   "cell_type": "markdown",
   "metadata": {},
   "source": [
    "The state of the vehicle is defined as a tuple of it's coordinates $\\left( x, y \\right)$, heading angle $\\psi$ and velocity $v$. The evolution of the state in a time interval $\\Delta t$ is governed by the following kinematic equations:"
   ]
  },
  {
   "cell_type": "markdown",
   "metadata": {},
   "source": [
    "$$\n",
    "\\begin{eqnarray}\n",
    "x(t + \\Delta t) &=& x(t) + v(t) cos(\\psi(t)) \\Delta t \\\\\n",
    "y(t + \\Delta t) &=& y(t) + v(t) sin(\\psi(t)) \\Delta t \\\\\n",
    "v(t + \\Delta t) &=& v(t) + a(t) \\Delta t \\\\\n",
    "\\psi(t + \\Delta t) &=& \\psi(t) + \\frac{v(t) \\Delta t \\delta(t)}{L_f}\n",
    "\\end{eqnarray}\n",
    "$$"
   ]
  },
  {
   "cell_type": "markdown",
   "metadata": {},
   "source": [
    "where the actuator controls $\\left [ a(t), \\delta(t) \\right ]$ consists of the acceleration (proportional to throttle)  and turning angle at time $t$. $L_f$ is a calibration constant that depends on the length of the vehicle."
   ]
  },
  {
   "cell_type": "markdown",
   "metadata": {},
   "source": [
    "### Following the Track"
   ]
  },
  {
   "cell_type": "markdown",
   "metadata": {},
   "source": [
    "The vehicle needs to follow a track provided by the simulator. The information provided by the simulator are\n",
    "- Vehicle coordinates\n",
    "- List of coordinates of the forward looking path\n",
    "- Velocity\n",
    "- Steering angle"
   ]
  },
  {
   "cell_type": "code",
   "execution_count": null,
   "metadata": {
    "collapsed": true
   },
   "outputs": [],
   "source": []
  }
 ],
 "metadata": {
  "anaconda-cloud": {},
  "kernelspec": {
   "display_name": "Python [conda root]",
   "language": "python",
   "name": "conda-root-py"
  },
  "language_info": {
   "codemirror_mode": {
    "name": "ipython",
    "version": 3
   },
   "file_extension": ".py",
   "mimetype": "text/x-python",
   "name": "python",
   "nbconvert_exporter": "python",
   "pygments_lexer": "ipython3",
   "version": "3.5.2"
  }
 },
 "nbformat": 4,
 "nbformat_minor": 2
}
