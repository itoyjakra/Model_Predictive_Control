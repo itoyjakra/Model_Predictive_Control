{
 "cells": [
  {
   "cell_type": "markdown",
   "metadata": {},
   "source": [
    "# Model Predictive Control"
   ]
  },
  {
   "cell_type": "markdown",
   "metadata": {},
   "source": [
    "## The Vehicle Model"
   ]
  },
  {
   "cell_type": "markdown",
   "metadata": {},
   "source": [
    "The state of the vehicle is defined as a tuple of it's coordinates $\\left( x, y \\right)$, heading angle $\\psi$ and velocity $v$. The evolution of the state in a time interval $\\Delta t$ is governed by the following kinematic equations:"
   ]
  },
  {
   "cell_type": "markdown",
   "metadata": {},
   "source": [
    "$$\n",
    "\\begin{eqnarray}\n",
    "x(t + \\Delta t) &=& x(t) + v(t) cos(\\psi(t)) \\Delta t \\\\ \\nonumber\n",
    "y(t + \\Delta t) &=& y(t) + v(t) sin(\\psi(t)) \\Delta t \\\\ \\nonumber\n",
    "v(t + \\Delta t) &=& v(t) + a(t) \\Delta t \\\\ \\nonumber\n",
    "\\psi(t + \\Delta t) &=& \\psi(t) + \\frac{v(t) \\Delta t \\delta(t)}{L_f} \\label{state_1}\n",
    "\\end{eqnarray}\n",
    "$$"
   ]
  },
  {
   "cell_type": "markdown",
   "metadata": {},
   "source": [
    "where the actuator controls $\\left [ a(t), \\delta(t) \\right ]$ consists of the acceleration (proportional to throttle)  and turning angle at time $t$. $L_f$ is a calibration constant that depends on the length of the vehicle."
   ]
  },
  {
   "cell_type": "markdown",
   "metadata": {},
   "source": [
    "### Following the Track"
   ]
  },
  {
   "cell_type": "markdown",
   "metadata": {},
   "source": [
    "The vehicle needs to follow a track provided by the simulator. The information provided by the simulator are\n",
    "- Vehicle coordinates\n",
    "- List of coordinates of the waypoints\n",
    "- Velocity\n",
    "- Steering angle"
   ]
  },
  {
   "cell_type": "markdown",
   "metadata": {},
   "source": [
    "A polynomial of degree 3 is fitted through the waypoints and a list of optimized waypoints are generated based on the current vehicle state with respect to the expected state. The optimal actuator response is generated to follow the optimized waypoints."
   ]
  },
  {
   "cell_type": "markdown",
   "metadata": {},
   "source": [
    "### Error Measurement"
   ]
  },
  {
   "cell_type": "markdown",
   "metadata": {},
   "source": [
    "A robust set of error measures is required to obtain to optimize the path the vehicle needs to follow. The primary and most important are\n",
    "- Cross Track Error (cte): The distance between the actual and desired location (center of the track) of the vehicle \n",
    "- Orientation Error ($e\\psi$): The angle between the actual and desired heading direction of the vehicle"
   ]
  },
  {
   "cell_type": "markdown",
   "metadata": {},
   "source": [
    "The definition and the update equation of the cross track error are as follows:"
   ]
  },
  {
   "cell_type": "markdown",
   "metadata": {},
   "source": [
    "$$\n",
    "\\begin{eqnarray}\n",
    "\\mathrm{cte}(t) &=& f(x(t)) - y(t) \\nonumber \\\\\n",
    "\\mathrm{cte}(t+\\Delta t) &=& \\mathrm{cte}(t) + v(t) sin(e\\psi(t)) \\Delta t \\label{state_cte}\n",
    "\\end{eqnarray}\n",
    "$$"
   ]
  },
  {
   "cell_type": "markdown",
   "metadata": {},
   "source": [
    "where $f$ is the polynomial fit to the trajectory. The orientation error and its update equation are as follows:"
   ]
  },
  {
   "cell_type": "markdown",
   "metadata": {},
   "source": [
    "$$\n",
    "\\begin{eqnarray}\n",
    "e\\psi(t) &=& \\psi(t) - \\tan^{-1}(f^\\prime(x(t))) \\nonumber \\\\\n",
    "e\\psi(t+\\Delta t) &=& e\\psi(t) + \\frac{v(t) sin(e \\psi(t)) \\Delta t}{L_f} \\label{state_psi}\n",
    "\\end{eqnarray}\n",
    "$$"
   ]
  },
  {
   "cell_type": "markdown",
   "metadata": {},
   "source": [
    "### Actuator Optimization"
   ]
  },
  {
   "cell_type": "markdown",
   "metadata": {},
   "source": [
    "The best actuator controls are obtained by minimizing a cost function with respect to an augmented state $[x, y, v, \\psi, \\mathrm{cte}, e\\psi]$ of the vehicle subject to certain constraints. The constraints guarantee that the states in the future follow the kinematic model described in eqns. \\ref{state_1}, \\ref{state_cte} and \\"
   ]
  },
  {
   "cell_type": "code",
   "execution_count": null,
   "metadata": {
    "collapsed": true
   },
   "outputs": [],
   "source": []
  }
 ],
 "metadata": {
  "anaconda-cloud": {},
  "kernelspec": {
   "display_name": "Python [conda root]",
   "language": "python",
   "name": "conda-root-py"
  },
  "language_info": {
   "codemirror_mode": {
    "name": "ipython",
    "version": 3
   },
   "file_extension": ".py",
   "mimetype": "text/x-python",
   "name": "python",
   "nbconvert_exporter": "python",
   "pygments_lexer": "ipython3",
   "version": "3.5.2"
  }
 },
 "nbformat": 4,
 "nbformat_minor": 2
}
